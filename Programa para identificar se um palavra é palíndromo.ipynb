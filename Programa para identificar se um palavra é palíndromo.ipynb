{
 "cells": [
  {
   "cell_type": "markdown",
   "metadata": {},
   "source": [
    "# Palavra palíndromo: \n",
    "## quando pode ser lida de trás para frente sem perder o sentido "
   ]
  },
  {
   "cell_type": "code",
   "execution_count": 39,
   "metadata": {},
   "outputs": [
    {
     "name": "stdout",
     "output_type": "stream",
     "text": [
      "Collecting unidecode\n",
      "  Downloading Unidecode-1.1.1-py2.py3-none-any.whl (238 kB)\n",
      "Installing collected packages: unidecode\n",
      "Successfully installed unidecode-1.1.1\n"
     ]
    }
   ],
   "source": [
    "!pip install unidecode\n"
   ]
  },
  {
   "cell_type": "code",
   "execution_count": 42,
   "metadata": {},
   "outputs": [
    {
     "name": "stdout",
     "output_type": "stream",
     "text": [
      "Digite a palavra: á ra ra \n",
      "p[0] = A\n",
      "p[4] = A\n",
      "p[1] = R\n",
      "p[3] = R\n",
      "A palavra ' á ra ra ' é palíndromo\n"
     ]
    }
   ],
   "source": [
    "from unidecode import unidecode as uni\n",
    "\n",
    "p = input('Digite a palavra:')\n",
    "\n",
    "def verificar(p):\n",
    "    p = p.upper()\n",
    "    p = p.replace(\" \", \"\")\n",
    "    p = uni(p)\n",
    "    n = len(p)\n",
    "    num = int(n/2)\n",
    "    verif = True\n",
    "\n",
    "    for i in range(0, num):\n",
    "        j = n-(i+1)\n",
    "        print(\"p[{0:d}] = {1:s}\".format(i,p[i]))\n",
    "        print(\"p[{0:d}] = {1:s}\".format(j,p[j]))\n",
    "        if(p[i] != p[j]):\n",
    "            verif = False\n",
    "            \n",
    "            break\n",
    "    return verif\n",
    "if (verificar(p)):\n",
    "    print(\"A palavra \\'{0:s}\\' é palíndromo\".format(p))\n",
    "else:\n",
    "    print(\"A palavra \\'{0:s}\\' não é palíndromo\".format(p))"
   ]
  },
  {
   "cell_type": "code",
   "execution_count": null,
   "metadata": {},
   "outputs": [],
   "source": []
  }
 ],
 "metadata": {
  "kernelspec": {
   "display_name": "Python 3",
   "language": "python",
   "name": "python3"
  },
  "language_info": {
   "codemirror_mode": {
    "name": "ipython",
    "version": 3
   },
   "file_extension": ".py",
   "mimetype": "text/x-python",
   "name": "python",
   "nbconvert_exporter": "python",
   "pygments_lexer": "ipython3",
   "version": "3.8.3"
  }
 },
 "nbformat": 4,
 "nbformat_minor": 4
}

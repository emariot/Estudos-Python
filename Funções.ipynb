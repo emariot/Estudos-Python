{
 "cells": [
  {
   "cell_type": "code",
   "execution_count": 3,
   "metadata": {},
   "outputs": [
    {
     "name": "stdout",
     "output_type": "stream",
     "text": [
      "-----------\n",
      "Olá! Função\n",
      "-----------\n"
     ]
    }
   ],
   "source": [
    "def bprint(msn):\n",
    "    print('-----------')\n",
    "    print(msn)\n",
    "    print('-----------')\n",
    "msn = 'Olá! Função'\n",
    "bprint(msn)"
   ]
  },
  {
   "cell_type": "code",
   "execution_count": 8,
   "metadata": {},
   "outputs": [
    {
     "name": "stdout",
     "output_type": "stream",
     "text": [
      "Entre com o valor: 5\n",
      "Entre com o segundo valor: 21\n",
      "5 + 21 = 26.0\n"
     ]
    }
   ],
   "source": [
    "def somaStr(x,y):\n",
    "    z = float(x) + float(y)\n",
    "    z = str(z)\n",
    "    return z\n",
    "\n",
    "x = input('Entre com o valor: ')\n",
    "y = input('Entre com o segundo valor: ')\n",
    "z = somaStr(x,y)\n",
    "print(\"{0:s} + {1:s} = {2:s}\".format(x, y, z))"
   ]
  },
  {
   "cell_type": "code",
   "execution_count": 16,
   "metadata": {},
   "outputs": [
    {
     "name": "stdout",
     "output_type": "stream",
     "text": [
      "*********\n",
      "Mensagem\n",
      "*********\n"
     ]
    }
   ],
   "source": [
    "def dprint(msn, simb):\n",
    "    for i in range(1, 10, 1):\n",
    "        print(simb, end = '')\n",
    "    print('')\n",
    "    print(msn)\n",
    "    for i in range(1, 10, 1):\n",
    "        print(simb, end = '')\n",
    "    print('')\n",
    "\n",
    "m = 'Mensagem'\n",
    "s = '*'\n",
    "\n",
    "dprint(m,s)"
   ]
  },
  {
   "cell_type": "code",
   "execution_count": 22,
   "metadata": {},
   "outputs": [
    {
     "name": "stdout",
     "output_type": "stream",
     "text": [
      "**********\n",
      "Mensagem\n",
      "**********\n",
      "----------\n",
      "Mensagem\n",
      "----------\n"
     ]
    }
   ],
   "source": [
    "def dprint(msn, simb = '-', n=10):\n",
    "    for i in range(1, n+1, 1):\n",
    "        print(simb, end = '')\n",
    "    print('')\n",
    "    print(msn)\n",
    "    for i in range(1, n+1, 1):\n",
    "        print(simb, end = '')\n",
    "    print('')\n",
    "\n",
    "m = 'Mensagem'\n",
    "s = '*'\n",
    "n = 10\n",
    "dprint(m, s, n)\n",
    "dprint(m)\n"
   ]
  },
  {
   "cell_type": "markdown",
   "metadata": {},
   "source": [
    "# Função auxiliar"
   ]
  },
  {
   "cell_type": "code",
   "execution_count": 24,
   "metadata": {},
   "outputs": [
    {
     "name": "stdout",
     "output_type": "stream",
     "text": [
      "**********\n",
      "Mensagem\n",
      "**********\n",
      "----------\n",
      "Mensagem\n",
      "----------\n"
     ]
    }
   ],
   "source": [
    "def sprint(simb, n):\n",
    "    for i in range(1, n+1, 1):\n",
    "        print(simb, end = '')\n",
    "    print('')\n",
    "\n",
    "def dprint(msn, simb = '-', n=10):\n",
    "    sprint(simb,n)\n",
    "    print(msn)\n",
    "    sprint(simb,n) \n",
    "\n",
    "m = 'Mensagem'\n",
    "s = '*'\n",
    "n = 10\n",
    "dprint(m, s, n)\n",
    "dprint(m)"
   ]
  },
  {
   "cell_type": "code",
   "execution_count": 2,
   "metadata": {},
   "outputs": [
    {
     "name": "stdout",
     "output_type": "stream",
     "text": [
      "----------\n",
      "Mensagem\n",
      "----------\n",
      "********************\n",
      "Mensagem\n",
      "********************\n",
      "********************\n",
      "Mensagem\n",
      "********************\n"
     ]
    }
   ],
   "source": [
    "def xprint(ss, nn):\n",
    "    for i in range(1, nn+1, 1):\n",
    "        print(ss, end = '')\n",
    "    print('')\n",
    "\n",
    "def yprint(msn, l=['-', 10]):\n",
    "    simb = l[0]\n",
    "    n = l[1]\n",
    "    xprint(simb, n)\n",
    "    print(msn)\n",
    "    xprint(simb, n)\n",
    "\n",
    "m = 'Mensagem'\n",
    "l = ['*', 20]\n",
    "yprint(m)\n",
    "yprint(m, l)\n",
    "yprint(l=l, msn=m)"
   ]
  },
  {
   "cell_type": "code",
   "execution_count": 4,
   "metadata": {},
   "outputs": [
    {
     "name": "stdout",
     "output_type": "stream",
     "text": [
      "----------\n",
      "padrão\n",
      "----------\n",
      "********************\n",
      "Mensagem\n",
      "********************\n",
      "********************\n",
      "Mensagem\n",
      "********************\n"
     ]
    }
   ],
   "source": [
    "def xprint(ss, nn):\n",
    "    for i in range(1, nn+1, 1):\n",
    "        print(ss, end = '')\n",
    "    print('')\n",
    "\n",
    "def yprint(l=['padrão','-', 10]):\n",
    "    msn = l[0]\n",
    "    simb = l[1]\n",
    "    n = l[2]\n",
    "    xprint(simb, n)\n",
    "    print(msn)\n",
    "    xprint(simb, n)\n",
    "\n",
    "l = ['*', 20]\n",
    "l.insert(0,m)\n",
    "yprint()\n",
    "yprint(l)\n",
    "yprint(l = l)"
   ]
  },
  {
   "cell_type": "code",
   "execution_count": 7,
   "metadata": {},
   "outputs": [
    {
     "name": "stdout",
     "output_type": "stream",
     "text": [
      "ChaveVermelhaUsar\n"
     ]
    }
   ],
   "source": [
    "def embaralhar(**msn):\n",
    "    print(msn[\"p2\"]+msn[\"p3\"]+msn[\"p1\"])\n",
    "\n",
    "embaralhar(p1='Usar', p2='Chave', p3='Vermelha')"
   ]
  },
  {
   "cell_type": "code",
   "execution_count": 17,
   "metadata": {},
   "outputs": [
    {
     "name": "stdout",
     "output_type": "stream",
     "text": [
      "[2, -6, 7, 8]\n",
      "A Soma dos elementos = 11.00\n"
     ]
    }
   ],
   "source": [
    "def somaL(l):\n",
    "    #s = sum(l)\n",
    "    s = 0\n",
    "    for i in l:\n",
    "        s = s + i\n",
    "    return s\n",
    "\n",
    "l2 = [2, -6, 7, 8]\n",
    "soma = somaL(l2)\n",
    "print(l2)\n",
    "print(\"A Soma dos elementos = {0:.2f}\".format(soma))"
   ]
  },
  {
   "cell_type": "code",
   "execution_count": 19,
   "metadata": {},
   "outputs": [
    {
     "name": "stdout",
     "output_type": "stream",
     "text": [
      "A média é 18.8\n"
     ]
    }
   ],
   "source": [
    "def media(l):\n",
    "    soma = 0\n",
    "    cont = 0\n",
    "    for i in l:\n",
    "        cont = cont + 1\n",
    "        soma = soma + i\n",
    "    media = soma/cont\n",
    "    return media\n",
    "l3 = [4, 6, 9, 10, 65]\n",
    "media = media(l3)\n",
    "print(\"A média é \"+str(media))"
   ]
  },
  {
   "cell_type": "code",
   "execution_count": 22,
   "metadata": {},
   "outputs": [
    {
     "name": "stdout",
     "output_type": "stream",
     "text": [
      "24\n"
     ]
    }
   ],
   "source": [
    "def fatorial(n):\n",
    "    prod = 1\n",
    "    for i in range(1,n+1,1):\n",
    "        prod = prod*i\n",
    "    return prod\n",
    "b = fatorial(4)\n",
    "print(b)\n"
   ]
  },
  {
   "cell_type": "code",
   "execution_count": 49,
   "metadata": {},
   "outputs": [
    {
     "name": "stdout",
     "output_type": "stream",
     "text": [
      "1-Soma/2-Produto2\n",
      "prod(3,4) = 12\n"
     ]
    }
   ],
   "source": [
    "def soma(a,b):\n",
    "    return a+b\n",
    "def prod(a,b):\n",
    "    return a*b\n",
    "\n",
    "opt = input(\"1-Soma/2-Produto\")\n",
    "a = 3\n",
    "b = 4\n",
    "\n",
    "if(opt == '1'):\n",
    "    f = soma\n",
    "else:\n",
    "    f = prod\n",
    "\n",
    "r = f(a,b)\n",
    "name = f.__name__\n",
    "\n",
    "print('{0}({1},{2}) = {3}'.format(name, a, b, r))\n",
    "\n",
    "\n",
    "\n"
   ]
  },
  {
   "cell_type": "code",
   "execution_count": 1,
   "metadata": {},
   "outputs": [
    {
     "name": "stdout",
     "output_type": "stream",
     "text": [
      "45\n"
     ]
    }
   ],
   "source": [
    "def maior_valor(l):\n",
    "    maior = l[0]\n",
    "    for i in l:\n",
    "        if(i>maior):\n",
    "            maior = i\n",
    "    return maior\n",
    "li = list(range(-10, 50, 5))\n",
    "ma = maior_valor(li)\n",
    "print(ma)"
   ]
  },
  {
   "cell_type": "code",
   "execution_count": 9,
   "metadata": {},
   "outputs": [
    {
     "name": "stdout",
     "output_type": "stream",
     "text": [
      "['g', 't', 'a', 'c', 'a', 'g', 'c']\n",
      "O número de ocorrências de 'a' é 2\n"
     ]
    }
   ],
   "source": [
    "def ocorrencia(l,o):\n",
    "    n = 0\n",
    "    for i in l:\n",
    "        if(i == o):\n",
    "            n = n +1\n",
    "    return n\n",
    "                \n",
    "\n",
    "ll = ['g', 't', 'a', 'c', 'a', 'g', 'c']\n",
    "o = 'a'\n",
    "print(ll)\n",
    "oco = ocorrencia(ll,o)\n",
    "\n",
    "print('O número de ocorrências de \\'{0:s}\\' é {1:d}'.format(o, oco))"
   ]
  },
  {
   "cell_type": "code",
   "execution_count": 29,
   "metadata": {},
   "outputs": [
    {
     "name": "stdout",
     "output_type": "stream",
     "text": [
      "A sequência é igual? True\n"
     ]
    }
   ],
   "source": [
    "def verif(sa, sb):\n",
    "    st = True\n",
    "    for i, j in zip(sa, sb):\n",
    "        if(i != j):\n",
    "            st = False\n",
    "            break\n",
    "    return st\n",
    "    \n",
    "    \n",
    "s1 = ['a', 'g', 't', 'c']\n",
    "s2 = ['a', 'g', 't', 'c']\n",
    "s3 = ['a', 'g', 't', 'a']\n",
    "\n",
    "status = verif(s1, s2)\n",
    "print('A sequência é igual? {0}'.format(status))"
   ]
  },
  {
   "cell_type": "code",
   "execution_count": 4,
   "metadata": {},
   "outputs": [
    {
     "name": "stdout",
     "output_type": "stream",
     "text": [
      "['g', 't', 'a', 'c', 'g', 't', 'c']\n",
      "['g', 't']\n",
      "['g', 't']\n",
      "-----\n",
      "['g', 't']\n",
      "['t', 'a']\n",
      "-----\n",
      "['g', 't']\n",
      "['a', 'c']\n",
      "-----\n",
      "['g', 't']\n",
      "['c', 'g']\n",
      "-----\n",
      "['g', 't']\n",
      "['g', 't']\n",
      "-----\n",
      "['g', 't']\n",
      "['t', 'c']\n",
      "-----\n",
      "2\n"
     ]
    }
   ],
   "source": [
    "# encontrando uma subsequência\n",
    "def seq(s1,s2):\n",
    "    status = True\n",
    "    for i,j in zip(s1,s2):\n",
    "        if(i != j):\n",
    "            status = False\n",
    "            break\n",
    "    return status\n",
    "\n",
    "def subseq(l,e1):\n",
    "    soma = 0\n",
    "    n = len(l)\n",
    "    t = len(e1)\n",
    "    for i in range(0, n-t+1):\n",
    "        e2 = l[i:i+t]\n",
    "        print(e1)\n",
    "        print(e2)\n",
    "        print('-----')\n",
    "        if seq(e1,e2):\n",
    "            soma += 1\n",
    "    return soma\n",
    "\n",
    "lll = ['g', 't', 'a', 'c', 'g', 't', 'c']\n",
    "e = ['g', 't']\n",
    "print(lll)\n",
    "sub = subseq(lll,e)\n",
    "print(sub)"
   ]
  },
  {
   "cell_type": "markdown",
   "metadata": {},
   "source": [
    "# Funções Recursivas\n",
    "---"
   ]
  },
  {
   "cell_type": "code",
   "execution_count": 9,
   "metadata": {},
   "outputs": [
    {
     "name": "stdout",
     "output_type": "stream",
     "text": [
      "1\n",
      "1\n",
      "120\n"
     ]
    }
   ],
   "source": [
    "def fatorial(n):\n",
    "    if(n > 0):\n",
    "        r = n*fatorial(n-1)\n",
    "    else:\n",
    "        r = 1\n",
    "    return r\n",
    "print(fatorial(0))\n",
    "print(fatorial(1))\n",
    "print(fatorial(5))"
   ]
  },
  {
   "cell_type": "code",
   "execution_count": 11,
   "metadata": {},
   "outputs": [
    {
     "name": "stdout",
     "output_type": "stream",
     "text": [
      "1\n",
      "1\n",
      "15\n",
      "55\n"
     ]
    }
   ],
   "source": [
    "def somaN(n):\n",
    "    if(n>1):\n",
    "        r = n + somaN(n-1)\n",
    "    else:\n",
    "        r = 1\n",
    "    return r\n",
    "print(somaN(0))\n",
    "print(somaN(1))\n",
    "print(somaN(5))\n",
    "print(somaN(10))\n"
   ]
  },
  {
   "cell_type": "code",
   "execution_count": null,
   "metadata": {},
   "outputs": [],
   "source": []
  }
 ],
 "metadata": {
  "kernelspec": {
   "display_name": "Python 3",
   "language": "python",
   "name": "python3"
  },
  "language_info": {
   "codemirror_mode": {
    "name": "ipython",
    "version": 3
   },
   "file_extension": ".py",
   "mimetype": "text/x-python",
   "name": "python",
   "nbconvert_exporter": "python",
   "pygments_lexer": "ipython3",
   "version": "3.8.3"
  }
 },
 "nbformat": 4,
 "nbformat_minor": 4
}

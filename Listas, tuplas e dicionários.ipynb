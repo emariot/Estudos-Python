{
 "cells": [
  {
   "cell_type": "code",
   "execution_count": 8,
   "metadata": {},
   "outputs": [],
   "source": [
    "x = 2\n",
    "y = 3\n",
    "d = x/y"
   ]
  },
  {
   "cell_type": "code",
   "execution_count": 16,
   "metadata": {},
   "outputs": [
    {
     "name": "stdout",
     "output_type": "stream",
     "text": [
      "Resultado é: 0.6666666666666666%\n",
      "Resultado é: 0.6666666666666666\n"
     ]
    }
   ],
   "source": [
    "print('Resultado é: '+ str(d)+'%')\n",
    "print('Resultado é:',d)"
   ]
  },
  {
   "cell_type": "code",
   "execution_count": 26,
   "metadata": {},
   "outputs": [
    {
     "name": "stdout",
     "output_type": "stream",
     "text": [
      "Nome = Ana\n",
      "Salário = R$1200\n",
      "Ana, seu salário líquido será: R$ 1080.0\n"
     ]
    }
   ],
   "source": [
    "n = input('Nome = ' )\n",
    "s = input('Salário = R$')\n",
    "i = 0.10\n",
    "s = float(s)\n",
    "l = abs((s*i)-s)\n",
    "print('{}, seu salário líquido será: R$ {}'.format(n, l))"
   ]
  },
  {
   "cell_type": "code",
   "execution_count": 27,
   "metadata": {},
   "outputs": [],
   "source": [
    "l = [ 1, 2, 3, 4]"
   ]
  },
  {
   "cell_type": "code",
   "execution_count": 34,
   "metadata": {},
   "outputs": [],
   "source": [
    "s = ['joao', 4, 5, 'Marcia']"
   ]
  },
  {
   "cell_type": "code",
   "execution_count": 44,
   "metadata": {},
   "outputs": [],
   "source": [
    "ls = [l,s]"
   ]
  },
  {
   "cell_type": "code",
   "execution_count": 45,
   "metadata": {},
   "outputs": [
    {
     "data": {
      "text/plain": [
       "[[1, 2, 8, 4], ['joao', 4, 5, 'Marcia']]"
      ]
     },
     "execution_count": 45,
     "metadata": {},
     "output_type": "execute_result"
    }
   ],
   "source": [
    "ls"
   ]
  },
  {
   "cell_type": "code",
   "execution_count": 48,
   "metadata": {},
   "outputs": [
    {
     "name": "stdout",
     "output_type": "stream",
     "text": [
      "2\n"
     ]
    }
   ],
   "source": [
    "print(ls[0][1])"
   ]
  },
  {
   "cell_type": "code",
   "execution_count": 54,
   "metadata": {},
   "outputs": [
    {
     "name": "stdout",
     "output_type": "stream",
     "text": [
      "4\n"
     ]
    }
   ],
   "source": [
    "print(ls[1][1])"
   ]
  },
  {
   "cell_type": "code",
   "execution_count": 2,
   "metadata": {},
   "outputs": [
    {
     "name": "stdout",
     "output_type": "stream",
     "text": [
      "------------\n",
      "soma = 55\n",
      "MAX = 10\n",
      "MIN = 1\n",
      "Count = 1\n",
      "------------\n"
     ]
    }
   ],
   "source": [
    "lista = list(range(1,11,1))\n",
    "print('------------')\n",
    "print('soma = '+str(sum(lista))+'\\nMAX = ' + str(max(lista)) + '\\nMIN = ' +str(min(lista)) + '\\nCount = ' + str(lista.count(2)))\n",
    "print('------------')"
   ]
  },
  {
   "cell_type": "code",
   "execution_count": 83,
   "metadata": {},
   "outputs": [
    {
     "name": "stdout",
     "output_type": "stream",
     "text": [
      "------------\n",
      "soma = 47\n",
      "MAX = 9\n",
      "MIN = 1\n",
      "Count = 2\n",
      "------------\n"
     ]
    }
   ],
   "source": [
    "lista[9] = 2\n",
    "print('------------')\n",
    "print('soma = '+str(sum(lista))+'\\nMAX = ' + str(max(lista)) + '\\nMIN = ' +str(min(lista)) + '\\nCount = ' + str(lista.count(2)))\n",
    "print('------------')"
   ]
  },
  {
   "cell_type": "markdown",
   "metadata": {},
   "source": [
    "# Listas, Set, Tuplas and Dicionaries\n",
    "---"
   ]
  },
  {
   "cell_type": "code",
   "execution_count": 3,
   "metadata": {},
   "outputs": [
    {
     "data": {
      "text/plain": [
       "[1, 2, 3, 4, 5, 6, 7, 8, 9, 10]"
      ]
     },
     "execution_count": 3,
     "metadata": {},
     "output_type": "execute_result"
    }
   ],
   "source": [
    "lista.sort(reverse=False)\n",
    "lista"
   ]
  },
  {
   "cell_type": "code",
   "execution_count": 4,
   "metadata": {},
   "outputs": [
    {
     "data": {
      "text/plain": [
       "[10, 9, 8, 7, 6, 5, 4, 3, 2, 1]"
      ]
     },
     "execution_count": 4,
     "metadata": {},
     "output_type": "execute_result"
    }
   ],
   "source": [
    "lista.sort(reverse=True)\n",
    "lista"
   ]
  },
  {
   "cell_type": "code",
   "execution_count": 5,
   "metadata": {},
   "outputs": [],
   "source": [
    "cars = [{'car': 'VW', 'year': 2011},\n",
    " {'car': 'Mitsubishi', 'year': 2008},\n",
    " {'car': 'Ford', 'year': 2025},\n",
    " {'car': 'BMW', 'year': 2001}]\n",
    "\n",
    "def myYear(e):\n",
    "    return e['year']"
   ]
  },
  {
   "cell_type": "code",
   "execution_count": 121,
   "metadata": {},
   "outputs": [
    {
     "data": {
      "text/plain": [
       "[{'car': 'Ford', 'year': 2025},\n",
       " {'car': 'VW', 'year': 2011},\n",
       " {'car': 'Mitsubishi', 'year': 2008},\n",
       " {'car': 'BMW', 'year': 2001}]"
      ]
     },
     "execution_count": 121,
     "metadata": {},
     "output_type": "execute_result"
    }
   ],
   "source": [
    "cars.sort(reverse=True, key=myYear)\n",
    "cars"
   ]
  },
  {
   "cell_type": "code",
   "execution_count": 122,
   "metadata": {},
   "outputs": [
    {
     "data": {
      "text/plain": [
       "2025"
      ]
     },
     "execution_count": 122,
     "metadata": {},
     "output_type": "execute_result"
    }
   ],
   "source": [
    "cars[0]['year']"
   ]
  },
  {
   "cell_type": "code",
   "execution_count": 123,
   "metadata": {},
   "outputs": [],
   "source": [
    "# Apend()\n",
    "cars.append({'car': 'Ferrari', 'year': 2020})"
   ]
  },
  {
   "cell_type": "code",
   "execution_count": 124,
   "metadata": {},
   "outputs": [
    {
     "data": {
      "text/plain": [
       "[{'car': 'Ford', 'year': 2025},\n",
       " {'car': 'VW', 'year': 2011},\n",
       " {'car': 'Mitsubishi', 'year': 2008},\n",
       " {'car': 'BMW', 'year': 2001},\n",
       " {'car': 'Ferrari', 'year': 2020}]"
      ]
     },
     "execution_count": 124,
     "metadata": {},
     "output_type": "execute_result"
    }
   ],
   "source": [
    "cars"
   ]
  },
  {
   "cell_type": "code",
   "execution_count": 126,
   "metadata": {},
   "outputs": [
    {
     "data": {
      "text/plain": [
       "[{'car': 'BMW', 'year': 2001},\n",
       " {'car': 'Mitsubishi', 'year': 2008},\n",
       " {'car': 'VW', 'year': 2011},\n",
       " {'car': 'Ferrari', 'year': 2020},\n",
       " {'car': 'Ford', 'year': 2025}]"
      ]
     },
     "execution_count": 126,
     "metadata": {},
     "output_type": "execute_result"
    }
   ],
   "source": [
    "cars.sort(key=myYear)\n",
    "cars"
   ]
  },
  {
   "cell_type": "markdown",
   "metadata": {},
   "source": [
    "## Métodos del, remove e pop"
   ]
  },
  {
   "cell_type": "code",
   "execution_count": 138,
   "metadata": {},
   "outputs": [],
   "source": [
    "list = [1, 2, 3, 4]"
   ]
  },
  {
   "cell_type": "code",
   "execution_count": 131,
   "metadata": {},
   "outputs": [],
   "source": [
    "list.remove(2)"
   ]
  },
  {
   "cell_type": "code",
   "execution_count": 132,
   "metadata": {},
   "outputs": [
    {
     "data": {
      "text/plain": [
       "[1, 3, 4]"
      ]
     },
     "execution_count": 132,
     "metadata": {},
     "output_type": "execute_result"
    }
   ],
   "source": [
    "list"
   ]
  },
  {
   "cell_type": "code",
   "execution_count": 133,
   "metadata": {},
   "outputs": [
    {
     "data": {
      "text/plain": [
       "1"
      ]
     },
     "execution_count": 133,
     "metadata": {},
     "output_type": "execute_result"
    }
   ],
   "source": [
    "list.pop(0) #Remove e retorna o valor removido"
   ]
  },
  {
   "cell_type": "code",
   "execution_count": 134,
   "metadata": {},
   "outputs": [
    {
     "data": {
      "text/plain": [
       "[3, 4]"
      ]
     },
     "execution_count": 134,
     "metadata": {},
     "output_type": "execute_result"
    }
   ],
   "source": [
    "list"
   ]
  },
  {
   "cell_type": "code",
   "execution_count": 140,
   "metadata": {},
   "outputs": [],
   "source": [
    "del list[:1] #remove um conjunto de dados"
   ]
  },
  {
   "cell_type": "code",
   "execution_count": 141,
   "metadata": {},
   "outputs": [
    {
     "data": {
      "text/plain": [
       "[2, 3, 4]"
      ]
     },
     "execution_count": 141,
     "metadata": {},
     "output_type": "execute_result"
    }
   ],
   "source": [
    "list"
   ]
  },
  {
   "cell_type": "code",
   "execution_count": 144,
   "metadata": {},
   "outputs": [
    {
     "name": "stdout",
     "output_type": "stream",
     "text": [
      "[2, 3, 4] [2, 3, 4]\n"
     ]
    }
   ],
   "source": [
    "## Método Copy\n",
    "z = list.copy()\n",
    "print(list, z)\n"
   ]
  },
  {
   "cell_type": "code",
   "execution_count": 145,
   "metadata": {},
   "outputs": [
    {
     "name": "stdout",
     "output_type": "stream",
     "text": [
      "3\n"
     ]
    }
   ],
   "source": [
    "#Tuplas \n",
    "thistuple = (1, 3, 7, 8, 7, 5, 4, 6, 8, 5)\n",
    "\n",
    "x = thistuple.index(8)\n",
    "\n",
    "print(x)"
   ]
  },
  {
   "cell_type": "code",
   "execution_count": 146,
   "metadata": {},
   "outputs": [
    {
     "name": "stdout",
     "output_type": "stream",
     "text": [
      "True\n"
     ]
    }
   ],
   "source": [
    "# Grupos set()\n",
    "set1 = {'Banana', 'Maça', 'Uva'}\n",
    "set2 = {'amarelo', 'vermelho', 'roxo'}\n",
    "print('Banana' in set1)"
   ]
  },
  {
   "cell_type": "code",
   "execution_count": 151,
   "metadata": {},
   "outputs": [
    {
     "data": {
      "text/plain": [
       "{'Banana', 'Jaca', 'Maça', 'Uva', 'mamão'}"
      ]
     },
     "execution_count": 151,
     "metadata": {},
     "output_type": "execute_result"
    }
   ],
   "source": [
    "set1.add('Jaca' and 'mamão')\n",
    "set1"
   ]
  },
  {
   "cell_type": "code",
   "execution_count": 152,
   "metadata": {},
   "outputs": [
    {
     "data": {
      "text/plain": [
       "{'amarelo', 'magenta', 'pink', 'roxo', 'vermelho'}"
      ]
     },
     "execution_count": 152,
     "metadata": {},
     "output_type": "execute_result"
    }
   ],
   "source": [
    "set2.update(['pink', 'magenta'])\n",
    "set2"
   ]
  },
  {
   "cell_type": "code",
   "execution_count": 155,
   "metadata": {},
   "outputs": [
    {
     "data": {
      "text/plain": [
       "{'banana', 'maça', 'sorvete'}"
      ]
     },
     "execution_count": 155,
     "metadata": {},
     "output_type": "execute_result"
    }
   ],
   "source": [
    "grupo = set(('maça', 'banana', 'sorvete'))\n",
    "grupo"
   ]
  },
  {
   "cell_type": "code",
   "execution_count": 157,
   "metadata": {},
   "outputs": [
    {
     "data": {
      "text/plain": [
       "{'Banana',\n",
       " 'Jaca',\n",
       " 'Maça',\n",
       " 'Uva',\n",
       " 'amarelo',\n",
       " 'magenta',\n",
       " 'mamão',\n",
       " 'pink',\n",
       " 'roxo',\n",
       " 'vermelho'}"
      ]
     },
     "execution_count": 157,
     "metadata": {},
     "output_type": "execute_result"
    }
   ],
   "source": [
    "# União dos conjuntos\n",
    "conj = set1.union(set2)\n",
    "conj"
   ]
  },
  {
   "cell_type": "code",
   "execution_count": 159,
   "metadata": {},
   "outputs": [
    {
     "data": {
      "text/plain": [
       "True"
      ]
     },
     "execution_count": 159,
     "metadata": {},
     "output_type": "execute_result"
    }
   ],
   "source": [
    "res = set1.issubset(conj)\n",
    "res"
   ]
  },
  {
   "cell_type": "code",
   "execution_count": 163,
   "metadata": {},
   "outputs": [
    {
     "name": "stdout",
     "output_type": "stream",
     "text": [
      "{'mamão', 'Maça', 'Jaca', 'roxo', 'vermelho', 'magenta', 'Uva', 'Banana', 'pink', 'amarelo'}\n",
      "{'mamão', 'Maça', 'Jaca', 'Uva', 'Banana'}\n"
     ]
    }
   ],
   "source": [
    "#Intersecção\n",
    "inter = set1.intersection(conj)\n",
    "print(conj)\n",
    "print(inter)\n"
   ]
  },
  {
   "cell_type": "code",
   "execution_count": 167,
   "metadata": {},
   "outputs": [
    {
     "data": {
      "text/plain": [
       "[1, 2, 3, 4]"
      ]
     },
     "execution_count": 167,
     "metadata": {},
     "output_type": "execute_result"
    }
   ],
   "source": [
    "# Dicionários\n",
    "cores = {1:'blue', 2:'red'}\n",
    "dados = {'x': [1,2,3,4], 'y':[4,5,3,2]}        \n",
    "dados['x']    "
   ]
  },
  {
   "cell_type": "code",
   "execution_count": 173,
   "metadata": {},
   "outputs": [
    {
     "name": "stdout",
     "output_type": "stream",
     "text": [
      "dict_keys([1, 2])\n",
      "dict_keys(['x', 'y'])\n",
      "dict_values(['blue', 'red'])\n",
      "dict_values([[1, 2, 3, 4], [4, 5, 3, 2]])\n",
      "dict_items([(1, 'blue'), (2, 'red')])\n",
      "dict_items([('x', [1, 2, 3, 4]), ('y', [4, 5, 3, 2])])\n"
     ]
    }
   ],
   "source": [
    "print(cores.keys())\n",
    "print(dados.keys())\n",
    "print(cores.values())\n",
    "print(dados.values())\n",
    "print(cores.items())\n",
    "print(dados.items())"
   ]
  },
  {
   "cell_type": "code",
   "execution_count": 175,
   "metadata": {},
   "outputs": [
    {
     "data": {
      "text/plain": [
       "{1: 'blue', 2: 'red', 3: 'black'}"
      ]
     },
     "execution_count": 175,
     "metadata": {},
     "output_type": "execute_result"
    }
   ],
   "source": [
    "cores[3] = 'black'\n",
    "cores"
   ]
  },
  {
   "cell_type": "code",
   "execution_count": 183,
   "metadata": {},
   "outputs": [],
   "source": [
    "dados['y'][0] = 0"
   ]
  },
  {
   "cell_type": "code",
   "execution_count": 178,
   "metadata": {},
   "outputs": [
    {
     "data": {
      "text/plain": [
       "{'x': [1, 2, 3, 4], 'y': [0, 5, 3, 2]}"
      ]
     },
     "execution_count": 178,
     "metadata": {},
     "output_type": "execute_result"
    }
   ],
   "source": [
    "dados"
   ]
  },
  {
   "cell_type": "code",
   "execution_count": null,
   "metadata": {},
   "outputs": [],
   "source": []
  }
 ],
 "metadata": {
  "kernelspec": {
   "display_name": "Python 3",
   "language": "python",
   "name": "python3"
  },
  "language_info": {
   "codemirror_mode": {
    "name": "ipython",
    "version": 3
   },
   "file_extension": ".py",
   "mimetype": "text/x-python",
   "name": "python",
   "nbconvert_exporter": "python",
   "pygments_lexer": "ipython3",
   "version": "3.8.3"
  }
 },
 "nbformat": 4,
 "nbformat_minor": 4
}

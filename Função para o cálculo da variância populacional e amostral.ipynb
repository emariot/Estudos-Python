{
 "cells": [
  {
   "cell_type": "code",
   "execution_count": 7,
   "metadata": {},
   "outputs": [
    {
     "name": "stdout",
     "output_type": "stream",
     "text": [
      "Desvio padrão amostral igual a 1.0000\n",
      "Desvio padrão populacional igual a 0.8165\n"
     ]
    }
   ],
   "source": [
    "def ma(l):\n",
    "    soma = 0\n",
    "    n = len(l)\n",
    "    for i in l:\n",
    "        soma = soma + i\n",
    "    total = soma/n\n",
    "    return total\n",
    "\n",
    "def calc(l):\n",
    "    med = ma(l)\n",
    "    soma = 0\n",
    "    for i in l:\n",
    "        soma = soma + (i - med)**2\n",
    "    return soma\n",
    "\n",
    "def devpp(l):\n",
    "    soma = calc(l)\n",
    "    n = len(l)\n",
    "    total = soma/n\n",
    "    dpp = total**(1/2)\n",
    "    return dpp\n",
    "    \n",
    "def devpa(l):\n",
    "    soma = calc(l)\n",
    "    n = len(l)\n",
    "    total = soma/(n - 1)\n",
    "    dpa = total**(1/2)\n",
    "    return dpa\n",
    "\n",
    "def desvio(**par):\n",
    "    lista = par['lista']\n",
    "    tip = par['tip']\n",
    "    if(tip==0):\n",
    "        r = devpp(lista)\n",
    "    else:\n",
    "        r = devpa(lista)\n",
    "    return r\n",
    "\n",
    "l = [7,8,9]\n",
    "\n",
    "dpa = desvio(tip=1, lista = l)\n",
    "dpp = desvio(tip=0, lista = l)\n",
    "\n",
    "print('Desvio padrão amostral igual a {0:.4f}'.format(dpa))\n",
    "print('Desvio padrão populacional igual a {0:.4f}'.format(dpp))"
   ]
  },
  {
   "cell_type": "code",
   "execution_count": null,
   "metadata": {},
   "outputs": [],
   "source": []
  }
 ],
 "metadata": {
  "kernelspec": {
   "display_name": "Python 3",
   "language": "python",
   "name": "python3"
  },
  "language_info": {
   "codemirror_mode": {
    "name": "ipython",
    "version": 3
   },
   "file_extension": ".py",
   "mimetype": "text/x-python",
   "name": "python",
   "nbconvert_exporter": "python",
   "pygments_lexer": "ipython3",
   "version": "3.8.3"
  }
 },
 "nbformat": 4,
 "nbformat_minor": 4
}

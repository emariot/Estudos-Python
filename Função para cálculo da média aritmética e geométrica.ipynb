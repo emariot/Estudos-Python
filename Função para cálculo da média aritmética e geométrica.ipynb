{
 "cells": [
  {
   "cell_type": "code",
   "execution_count": 14,
   "metadata": {},
   "outputs": [
    {
     "name": "stdout",
     "output_type": "stream",
     "text": [
      "Média aritmética 8.00\n",
      "Média geométrica 7.96\n"
     ]
    }
   ],
   "source": [
    "def ma(l):\n",
    "    soma = 0\n",
    "    n = 0\n",
    "    for i in l:\n",
    "        soma += i\n",
    "        n += 1\n",
    "    total = soma/n\n",
    "    return total \n",
    "    \n",
    "def mg(l):\n",
    "    prod = 1\n",
    "    n = 0\n",
    "    for i in l:\n",
    "        prod *= i\n",
    "        n += 1\n",
    "    total = prod**(1/n)\n",
    "    return total\n",
    "    \n",
    "def media(lista, tip = 0):\n",
    "    if (tip == 0):\n",
    "        r = ma(lista)\n",
    "    else:\n",
    "        r = mg(lista)\n",
    "    return r\n",
    "\n",
    "l = [7, 8, 9]\n",
    "t = 0\n",
    "m = media(tip = t, lista=l)\n",
    "print(\"Média aritmética {0:.2f}\".format(m))\n",
    "g = media(tip = 1, lista=l)\n",
    "print(\"Média geométrica {0:.2f}\".format(g))"
   ]
  },
  {
   "cell_type": "code",
   "execution_count": null,
   "metadata": {},
   "outputs": [],
   "source": []
  }
 ],
 "metadata": {
  "kernelspec": {
   "display_name": "Python 3",
   "language": "python",
   "name": "python3"
  },
  "language_info": {
   "codemirror_mode": {
    "name": "ipython",
    "version": 3
   },
   "file_extension": ".py",
   "mimetype": "text/x-python",
   "name": "python",
   "nbconvert_exporter": "python",
   "pygments_lexer": "ipython3",
   "version": "3.8.3"
  }
 },
 "nbformat": 4,
 "nbformat_minor": 4
}

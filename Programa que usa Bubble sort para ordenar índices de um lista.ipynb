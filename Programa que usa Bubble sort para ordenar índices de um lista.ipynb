{
 "cells": [
  {
   "cell_type": "code",
   "execution_count": 34,
   "metadata": {},
   "outputs": [
    {
     "name": "stdout",
     "output_type": "stream",
     "text": [
      "[4.7, 5.4, 3.1, 10.2]\n",
      "[0, 1, 2, 3]\n",
      "[3.1, 4.7, 5.4, 10.2]\n",
      "[2, 0, 1, 3]\n"
     ]
    }
   ],
   "source": [
    "def troca(b,c):\n",
    "    return(c,b)\n",
    "\n",
    "def sort(index, crit):\n",
    "    n = len(crit)\n",
    "    for i in range(1, n):\n",
    "        for j in range(0, n-1):\n",
    "            if(crit[j] > crit[j+1]):\n",
    "                crit[j], crit[j+1] = troca(crit[j], crit[j+1])\n",
    "                index[j], index[j+1] = troca(index[j], index[j+1])\n",
    "    return index, crit\n",
    "                \n",
    "pages = [4.7, 5.4, 3.1, 10.2]\n",
    "index = [0, 1, 2, 3]\n",
    "\n",
    "print(pages)\n",
    "print(index)\n",
    "index, pages = sort(index, pages)\n",
    "print(pages)\n",
    "print(index)\n"
   ]
  },
  {
   "cell_type": "code",
   "execution_count": null,
   "metadata": {},
   "outputs": [],
   "source": []
  }
 ],
 "metadata": {
  "kernelspec": {
   "display_name": "Python 3",
   "language": "python",
   "name": "python3"
  },
  "language_info": {
   "codemirror_mode": {
    "name": "ipython",
    "version": 3
   },
   "file_extension": ".py",
   "mimetype": "text/x-python",
   "name": "python",
   "nbconvert_exporter": "python",
   "pygments_lexer": "ipython3",
   "version": "3.8.3"
  }
 },
 "nbformat": 4,
 "nbformat_minor": 4
}

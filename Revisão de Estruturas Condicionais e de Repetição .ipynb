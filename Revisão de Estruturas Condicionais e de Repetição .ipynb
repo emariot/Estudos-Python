{
 "cells": [
  {
   "cell_type": "markdown",
   "metadata": {},
   "source": [
    "# if,else,elif encadeados com duas variáveis"
   ]
  },
  {
   "cell_type": "code",
   "execution_count": 6,
   "metadata": {},
   "outputs": [
    {
     "name": "stdout",
     "output_type": "stream",
     "text": [
      "Digite a temperatura: 20\n",
      "Digite a umidade : 0.6\n",
      "Temperatura = 19\n",
      "Umidade = 0.7\n"
     ]
    }
   ],
   "source": [
    "temp = input('Digite a temperatura: ')\n",
    "temp = int(temp)\n",
    "umid = input('Digite a umidade : ')\n",
    "umid = float(umid)\n",
    "\n",
    "if(temp >= 25):\n",
    "    temp = temp - 5\n",
    "else:\n",
    "    if(umid <= 0.20):\n",
    "        umid = umid + 0.4\n",
    "    elif(umid <= 0.40):\n",
    "        umid = umid + 0.10\n",
    "    else:\n",
    "        umid = umid + 0.1\n",
    "    temp = temp - 1\n",
    "print('Temperatura = '+str(temp))\n",
    "print('Umidade = '+str(umid))"
   ]
  },
  {
   "cell_type": "markdown",
   "metadata": {},
   "source": [
    "# Conectivos Lógicos And, Or"
   ]
  },
  {
   "cell_type": "code",
   "execution_count": 26,
   "metadata": {},
   "outputs": [
    {
     "name": "stdout",
     "output_type": "stream",
     "text": [
      "Temperatura = 31\n",
      "Entre com a Umidade = 60\n",
      "Nenhuma\n"
     ]
    }
   ],
   "source": [
    "# importante colocar o else no final\n",
    "t = input('Temperatura = ')\n",
    "t = float(t)\n",
    "u = input('Entre com a Umidade = ')\n",
    "u = float(u)\n",
    "if (t<=0)and(u<=20):\n",
    "    acao='Ligar Umidificador'\n",
    "elif (t>20)and(t<30):\n",
    "    acao='Ligar ar leve'\n",
    "elif (t>=30)and(u>20)and(u<60):\n",
    "    acao='Ligar as max.'\n",
    "else:\n",
    "    acao='Nenhuma'\n",
    "print(acao)\n"
   ]
  },
  {
   "cell_type": "markdown",
   "metadata": {},
   "source": [
    "# While"
   ]
  },
  {
   "cell_type": "code",
   "execution_count": 7,
   "metadata": {},
   "outputs": [
    {
     "name": "stdout",
     "output_type": "stream",
     "text": [
      "0\n",
      "1\n",
      "2\n",
      "3\n",
      "False\n",
      "Valor de i = 4\n"
     ]
    }
   ],
   "source": [
    "i = 0\n",
    "while (i < 4):\n",
    "    print(i)\n",
    "    i += 1\n",
    "\n",
    "print(i < 4)\n",
    "print('Valor de i = '+str(i))"
   ]
  },
  {
   "cell_type": "code",
   "execution_count": 11,
   "metadata": {},
   "outputs": [
    {
     "name": "stdout",
     "output_type": "stream",
     "text": [
      "0\n",
      "2\n",
      "4\n",
      "6\n",
      "8\n",
      "10\n"
     ]
    }
   ],
   "source": [
    "i = 0\n",
    "while(i <= 10):\n",
    "    if(i % 2 == 0):\n",
    "        print(i)\n",
    "    i += 1"
   ]
  },
  {
   "cell_type": "markdown",
   "metadata": {},
   "source": [
    "# Break/Continue "
   ]
  },
  {
   "cell_type": "code",
   "execution_count": 17,
   "metadata": {},
   "outputs": [
    {
     "name": "stdout",
     "output_type": "stream",
     "text": [
      "1\n",
      "3\n",
      "5\n",
      "7\n",
      "9\n"
     ]
    }
   ],
   "source": [
    "i = 0 \n",
    "while (i <= 10):\n",
    "    i += 1\n",
    "    if(i > 10):\n",
    "        break\n",
    "    if(i % 2 == 0):\n",
    "        continue\n",
    "    else:\n",
    "        print(i)"
   ]
  },
  {
   "cell_type": "markdown",
   "metadata": {},
   "source": [
    "# Acessando Elementos do While"
   ]
  },
  {
   "cell_type": "code",
   "execution_count": 22,
   "metadata": {},
   "outputs": [
    {
     "name": "stdout",
     "output_type": "stream",
     "text": [
      "lista[0]=a\n",
      "lista[1]=b\n",
      "lista[2]=c\n",
      "lista[3]=d\n",
      "lista[4]=e\n",
      "lista[5]=f\n"
     ]
    }
   ],
   "source": [
    "l = [ \"a\", \"b\", \"c\", \"d\", \"e\", \"f\"]\n",
    "i = 0\n",
    "while (i < len(l)):\n",
    "    elemento = 'lista[%i]=%s'%(i, l[i])\n",
    "    print(elemento)\n",
    "    i += 1"
   ]
  },
  {
   "cell_type": "code",
   "execution_count": 28,
   "metadata": {},
   "outputs": [
    {
     "name": "stdout",
     "output_type": "stream",
     "text": [
      "Elemento encontradona posição: 3\n",
      "Elemento encontradona posição: 4\n",
      "[3, 4]\n",
      "Primeira ocorrencia: 3\n",
      "Última ocorrencia: 4\n"
     ]
    }
   ],
   "source": [
    "#l = [ \"a\", \"b\", \"c\", \"d\", \"e\", \"f\"]\n",
    "l2 = [ \"a\", \"b\", \"c\", \"d\", \"d\", \"e\", \"f\"]\n",
    "valor = \"d\"\n",
    "i = 0\n",
    "ocorrencias = []\n",
    "\n",
    "while (i < len(l2)):\n",
    "    if(l2[i] == valor):\n",
    "        print('Elemento encontradona posição: '+str(i))\n",
    "        ocorrencias.append(i)\n",
    "    i += 1\n",
    "print(ocorrencias)\n",
    "print('Primeira ocorrencia: '+str(ocorrencias[0]))\n",
    "print('Última ocorrencia: '+str(ocorrencias[1]))"
   ]
  },
  {
   "cell_type": "code",
   "execution_count": 39,
   "metadata": {},
   "outputs": [
    {
     "data": {
      "text/plain": [
       "['a', 'b', 'g', 'r', 'h', 'u', 'y', 'w']"
      ]
     },
     "execution_count": 39,
     "metadata": {},
     "output_type": "execute_result"
    }
   ],
   "source": [
    "l1 = ['a', 'g', 'h', 'y']\n",
    "l2 = ['b', 'r', 'u', 'w']\n",
    "l3 = []\n",
    "\n",
    "i = 0\n",
    "j = 0\n",
    "k = 0\n",
    "\n",
    "n = 2 * len(l1)\n",
    "\n",
    "while (i < n):\n",
    "    if(i % 2 == 0):\n",
    "        l3.append(l1[j])\n",
    "        j += 1\n",
    "    else:\n",
    "        l3.append(l2[k])\n",
    "        k += 1\n",
    "    i += 1\n",
    "l3"
   ]
  },
  {
   "cell_type": "markdown",
   "metadata": {},
   "source": [
    "# For"
   ]
  },
  {
   "cell_type": "code",
   "execution_count": 42,
   "metadata": {},
   "outputs": [
    {
     "name": "stdout",
     "output_type": "stream",
     "text": [
      "impressão por ordenação\n",
      "i = 0\n",
      "lista = a\n",
      "i = 1\n",
      "lista = g\n",
      "i = 2\n",
      "lista = h\n",
      "i = 3\n",
      "lista = y\n"
     ]
    }
   ],
   "source": [
    "# l1 = ['a', 'g', 'h', 'y']\n",
    "\n",
    "print('impressão por ordenação')\n",
    "intervalo = range(0, len(l1))\n",
    "\n",
    "for i in intervalo: \n",
    "    print('i = '+str(i))\n",
    "    print('lista = '+str(l1[i]))"
   ]
  },
  {
   "cell_type": "code",
   "execution_count": 44,
   "metadata": {},
   "outputs": [
    {
     "name": "stdout",
     "output_type": "stream",
     "text": [
      "impressão por ordenação\n",
      "a\n",
      "g\n",
      "h\n",
      "y\n"
     ]
    }
   ],
   "source": [
    "# Não precisa informar o range\n",
    "print('impressão por ordenação')\n",
    "\n",
    "for i in l1:\n",
    "    print(i)"
   ]
  },
  {
   "cell_type": "markdown",
   "metadata": {},
   "source": [
    "# Zip - Concatenação de Listas"
   ]
  },
  {
   "cell_type": "code",
   "execution_count": 47,
   "metadata": {},
   "outputs": [
    {
     "name": "stdout",
     "output_type": "stream",
     "text": [
      "['a', 'g', 'h', 'y']\n",
      "['b', 'r', 'u', 'w']\n",
      "['a', 'b', 'g', 'r', 'h', 'u', 'y', 'w']\n"
     ]
    }
   ],
   "source": [
    "l1 = ['a', 'g', 'h', 'y']\n",
    "l2 = ['b', 'r', 'u', 'w']\n",
    "lz = []\n",
    "\n",
    "for i,j in zip(l1,l2):\n",
    "    lz.append(i)\n",
    "    lz.append(j)\n",
    "print(l1)\n",
    "print(l2)\n",
    "print(lz)\n",
    "\n"
   ]
  },
  {
   "cell_type": "markdown",
   "metadata": {},
   "source": [
    "# For em Dicionários"
   ]
  },
  {
   "cell_type": "code",
   "execution_count": 51,
   "metadata": {},
   "outputs": [
    {
     "name": "stdout",
     "output_type": "stream",
     "text": [
      "Lista de Empresas\n",
      "Empresa 1\n",
      "Empresa 2\n",
      "--------------------\n",
      "Lista de Valores\n",
      "200500\n",
      "345600\n"
     ]
    }
   ],
   "source": [
    "faturamento = {\n",
    "    'Empresa 1': 200500,\n",
    "    'Empresa 2': 345600\n",
    "}\n",
    "\n",
    "print('Lista de Empresas')\n",
    "\n",
    "for k in faturamento.keys():\n",
    "    print('{}'.format(k))\n",
    "print('--------------------')    \n",
    "print('Lista de Valores')\n",
    "\n",
    "for v in faturamento.values():\n",
    "    print('{}'.format(v))\n",
    "    \n"
   ]
  },
  {
   "cell_type": "code",
   "execution_count": 62,
   "metadata": {},
   "outputs": [
    {
     "name": "stdout",
     "output_type": "stream",
     "text": [
      "Relatório Anual\n",
      "Empresa 1 possui faturamento R$200500.00\n",
      "Empresa 2 possui faturamento R$345600.00\n",
      "Empresa 2 possui critério de seleção\n"
     ]
    }
   ],
   "source": [
    "print('Relatório Anual')\n",
    "for k,v in faturamento.items():\n",
    "    print('{0} possui faturamento R${1:.2f}'.format(k,v))\n",
    "    if(v > 300000):\n",
    "        print('{} possui critério de seleção'.format(k))"
   ]
  },
  {
   "cell_type": "code",
   "execution_count": null,
   "metadata": {},
   "outputs": [],
   "source": []
  }
 ],
 "metadata": {
  "kernelspec": {
   "display_name": "Python 3",
   "language": "python",
   "name": "python3"
  },
  "language_info": {
   "codemirror_mode": {
    "name": "ipython",
    "version": 3
   },
   "file_extension": ".py",
   "mimetype": "text/x-python",
   "name": "python",
   "nbconvert_exporter": "python",
   "pygments_lexer": "ipython3",
   "version": "3.8.3"
  }
 },
 "nbformat": 4,
 "nbformat_minor": 4
}
